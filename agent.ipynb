{
 "cells": [
  {
   "cell_type": "code",
   "execution_count": 1,
   "metadata": {},
   "outputs": [],
   "source": [
    "%%capture pip_output\n",
    "!pip3 install -r requirements.txt\n",
    "\n",
    "%load_ext dotenv\n",
    "%dotenv"
   ]
  },
  {
   "cell_type": "code",
   "execution_count": 8,
   "metadata": {},
   "outputs": [
    {
     "name": "stdout",
     "output_type": "stream",
     "text": [
      "PIP Install successful, no errors reported.\n",
      "API Key Loaded: True\n",
      "API key starts with: sk-7q\n"
     ]
    }
   ],
   "source": [
    "# Confirm that the install worked and we have an API key\n",
    "if pip_output.stderr:\n",
    "    print(\"An error occurred during PIP install or dotenv load:\\n\", pip_output.stderr)\n",
    "else:\n",
    "    print(\"PIP Install successful, no errors reported.\")\n",
    "\n",
    "import os\n",
    "api_key = os.getenv('OPENAI_API_KEY')\n",
    "print(\"API Key Loaded:\", api_key is not None)\n",
    "print(\"API key starts with:\", api_key[:5])\n",
    "\n",
    "@"
   ]
  },
  {
   "cell_type": "code",
   "execution_count": 3,
   "metadata": {},
   "outputs": [],
   "source": [
    "from llama_index.tools import FunctionTool\n",
    "from llama_index.llms import OpenAI\n",
    "from llama_index.agent import ReActAgent\n",
    "\n",
    "\n",
    "# define sample Tool\n",
    "def multiply(a: int, b: int) -> int:\n",
    "    \"\"\"Multiply two integers and returns the result integer\"\"\"\n",
    "    return a * b\n",
    "\n",
    "\n",
    "multiply_tool = FunctionTool.from_defaults(fn=multiply)\n",
    "\n",
    "# initialize llm\n",
    "llm = OpenAI(model=\"gpt-3.5-turbo-0613\")\n",
    "\n",
    "# initialize ReAct agent\n",
    "agent = ReActAgent.from_tools([multiply_tool], llm=llm, verbose=True)"
   ]
  },
  {
   "cell_type": "code",
   "execution_count": 5,
   "metadata": {},
   "outputs": [
    {
     "name": "stdout",
     "output_type": "stream",
     "text": [
      "\u001b[1;3;38;5;200mThought: I can use the multiply tool to calculate the product of 3 and 7.\n",
      "Action: multiply\n",
      "Action Input: {'a': 3, 'b': 7}\n",
      "\u001b[0m\u001b[1;3;34mObservation: 21\n",
      "\u001b[0m\u001b[1;3;38;5;200mThought: I have the answer to the question.\n",
      "Response: 3 multiplied by 7 is equal to 21.\n",
      "\u001b[0m"
     ]
    },
    {
     "data": {
      "text/plain": [
       "AgentChatResponse(response='3 multiplied by 7 is equal to 21.', sources=[ToolOutput(content='21', tool_name='multiply', raw_input={'args': (), 'kwargs': {'a': 3, 'b': 7}}, raw_output=21)], source_nodes=[])"
      ]
     },
     "execution_count": 5,
     "metadata": {},
     "output_type": "execute_result"
    }
   ],
   "source": [
    "# Simple chat/response\n",
    "agent.chat(\"What's 3*7?\")"
   ]
  },
  {
   "cell_type": "code",
   "execution_count": 6,
   "metadata": {},
   "outputs": [
    {
     "name": "stdout",
     "output_type": "stream",
     "text": [
      "\u001b[1;3;38;5;200mThought: I can use the multiply tool to find the product of 121 and 2.\n",
      "Action: multiply\n",
      "Action Input: {'a': 121, 'b': 2}\n",
      "\u001b[0m\u001b[1;3;34mObservation: 242\n",
      "\u001b[0m Once upon a time, there was a group of 242 mice living in a cozy little burrow. These mice were known for their intelligence and resourcefulness. They worked together as a team to gather food, build their nests, and protect each other from predators. Every day, they would venture out into the fields, searching for tasty grains and seeds to bring back to their burrow. With their combined efforts, they were able to gather enough food to sustain themselves through the harsh winter months. The mice lived harmoniously, sharing their resources and looking out for one another. They were a close-knit community, always ready to lend a helping paw to a fellow mouse in need. And so, the group of 242 mice thrived, living happily ever after in their cozy burrow."
     ]
    }
   ],
   "source": [
    "# Streaming chat\n",
    "\n",
    "response = agent.stream_chat(\n",
    "    \"What is 121 * 2? Once you have the answer, use that number to write a\"\n",
    "    \" story about a group of mice.\"\n",
    ")\n",
    "\n",
    "response_gen = response.response_gen\n",
    "\n",
    "for token in response_gen:\n",
    "    print(token, end=\"\")"
   ]
  },
  {
   "cell_type": "code",
   "execution_count": 7,
   "metadata": {},
   "outputs": [
    {
     "name": "stdout",
     "output_type": "stream",
     "text": [
      "\u001b[1;3;38;5;200mThought: I need to use a tool to help me answer the question.\n",
      "Action: multiply\n",
      "Action Input: {'a': 121, 'b': 2}\n",
      "\u001b[0m\u001b[1;3;34mObservation: 242\n",
      "\u001b[0m 121 + 8 is equal to 129.\n",
      "\n",
      "Once upon a time, there was a group of 129 mice living in a cozy little burrow in a field. These mice were known for their intelligence and resourcefulness. They had built a well-organized community where everyone had their role to play.\n",
      "\n",
      "One day, a big storm hit the field, and the mice's burrow was flooded. The mice quickly realized that they needed to find a new home. They gathered together and brainstormed ideas on where they could relocate.\n",
      "\n",
      "After much discussion, they decided to venture into the nearby forest. They knew it would be a challenging journey, but they were determined to find a safe and dry place to call home.\n",
      "\n",
      "The mice set off on their adventure, navigating through tall grass, crossing streams, and climbing over fallen logs. Along the way, they encountered various obstacles, but they worked together as a team to overcome them.\n",
      "\n",
      "As they explored the forest, the mice stumbled upon an old abandoned tree trunk. It was the perfect size for their community, with plenty of space for everyone. Excitedly, they made it their new home.\n",
      "\n",
      "In their new home, the mice continued to thrive. They built intricate tunnels and chambers within the tree trunk, creating a cozy and secure environment. They worked together to gather food, protect each other from predators, and raise their young.\n",
      "\n",
      "The mice became known as the Forest Dwellers, admired by other animals for their unity and resilience. They lived happily ever after in their new home, grateful for the journey that led them to a place where they could flourish.\n",
      "\n",
      "And so, the story of the 129 mice and their remarkable journey through the forest became a legend, inspiring generations of mice to come."
     ]
    }
   ],
   "source": [
    "# Async streaming chat\n",
    "\n",
    "response = await agent.astream_chat(\n",
    "    \"What is 121 + 8? Once you have the answer, use that number to write a\"\n",
    "    \" story about a group of mice.\"\n",
    ")\n",
    "\n",
    "response_gen = response.response_gen\n",
    "\n",
    "async for token in response.async_response_gen():\n",
    "    print(token, end=\"\")"
   ]
  },
  {
   "cell_type": "code",
   "execution_count": null,
   "metadata": {},
   "outputs": [],
   "source": []
  }
 ],
 "metadata": {
  "kernelspec": {
   "display_name": "base",
   "language": "python",
   "name": "python3"
  },
  "language_info": {
   "codemirror_mode": {
    "name": "ipython",
    "version": 3
   },
   "file_extension": ".py",
   "mimetype": "text/x-python",
   "name": "python",
   "nbconvert_exporter": "python",
   "pygments_lexer": "ipython3",
   "version": "3.9.13"
  }
 },
 "nbformat": 4,
 "nbformat_minor": 2
}
