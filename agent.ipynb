{
 "cells": [
  {
   "cell_type": "code",
   "execution_count": 1,
   "metadata": {},
   "outputs": [],
   "source": [
    "%%capture pip_output\n",
    "!pip3 install -r requirements.txt\n",
    "\n",
    "%load_ext dotenv\n",
    "%dotenv"
   ]
  },
  {
   "cell_type": "code",
   "execution_count": 2,
   "metadata": {},
   "outputs": [
    {
     "name": "stdout",
     "output_type": "stream",
     "text": [
      "PIP Install successful, no errors reported.\n",
      "API Key Loaded: True\n",
      "API key starts with: sk-7q\n"
     ]
    }
   ],
   "source": [
    "# Confirm that the install worked and we have an API key\n",
    "if pip_output.stderr:\n",
    "    print(\"An error occurred during PIP install or dotenv load:\\n\", pip_output.stderr)\n",
    "else:\n",
    "    print(\"PIP Install successful, no errors reported.\")\n",
    "\n",
    "import os\n",
    "api_key = os.getenv('OPENAI_API_KEY')\n",
    "print(\"API Key Loaded:\", api_key is not None)\n",
    "print(\"API key starts with:\", api_key[:5])"
   ]
  },
  {
   "cell_type": "code",
   "execution_count": 3,
   "metadata": {},
   "outputs": [],
   "source": [
    "from llama_index.tools import FunctionTool\n",
    "from llama_index.llms import OpenAI\n",
    "from llama_index.agent import ReActAgent\n",
    "\n",
    "\n",
    "# define sample Tool\n",
    "def multiply(a: int, b: int) -> int:\n",
    "    \"\"\"Multiply two integers and returns the result integer\"\"\"\n",
    "    return a * b\n",
    "\n",
    "\n",
    "multiply_tool = FunctionTool.from_defaults(fn=multiply)\n",
    "\n",
    "# initialize llm\n",
    "llm = OpenAI(model=\"gpt-3.5-turbo-0613\")\n",
    "\n",
    "# initialize ReAct agent\n",
    "agent = ReActAgent.from_tools([multiply_tool], llm=llm, verbose=True)"
   ]
  },
  {
   "cell_type": "code",
   "execution_count": 5,
   "metadata": {},
   "outputs": [
    {
     "name": "stdout",
     "output_type": "stream",
     "text": [
      "\u001b[1;3;38;5;200mThought: I can use the multiply tool to calculate the product of 3 and 7.\n",
      "Action: multiply\n",
      "Action Input: {'a': 3, 'b': 7}\n",
      "\u001b[0m\u001b[1;3;34mObservation: 21\n",
      "\u001b[0m\u001b[1;3;38;5;200mThought: I have the answer to the question.\n",
      "Response: 3 multiplied by 7 is equal to 21.\n",
      "\u001b[0m"
     ]
    },
    {
     "data": {
      "text/plain": [
       "AgentChatResponse(response='3 multiplied by 7 is equal to 21.', sources=[ToolOutput(content='21', tool_name='multiply', raw_input={'args': (), 'kwargs': {'a': 3, 'b': 7}}, raw_output=21)], source_nodes=[])"
      ]
     },
     "execution_count": 5,
     "metadata": {},
     "output_type": "execute_result"
    }
   ],
   "source": [
    "agent.chat(\"What's 3*7?\")"
   ]
  }
 ],
 "metadata": {
  "kernelspec": {
   "display_name": "base",
   "language": "python",
   "name": "python3"
  },
  "language_info": {
   "codemirror_mode": {
    "name": "ipython",
    "version": 3
   },
   "file_extension": ".py",
   "mimetype": "text/x-python",
   "name": "python",
   "nbconvert_exporter": "python",
   "pygments_lexer": "ipython3",
   "version": "3.9.13"
  }
 },
 "nbformat": 4,
 "nbformat_minor": 2
}
