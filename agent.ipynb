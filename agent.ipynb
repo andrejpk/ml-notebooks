{
 "cells": [
  {
   "cell_type": "code",
   "execution_count": 1,
   "metadata": {},
   "outputs": [],
   "source": [
    "%%capture pip_output\n",
    "!pip3 install -r requirements.txt\n",
    "\n",
    "%load_ext dotenv\n",
    "%dotenv"
   ]
  },
  {
   "cell_type": "code",
   "execution_count": 2,
   "metadata": {},
   "outputs": [
    {
     "name": "stdout",
     "output_type": "stream",
     "text": [
      "PIP Install successful, no errors reported.\n",
      "API Key Loaded: True\n",
      "API key starts with: sk-7q\n"
     ]
    }
   ],
   "source": [
    "# Confirm that the install worked and we have an API key\n",
    "if pip_output.stderr:\n",
    "    print(\"An error occurred during PIP install or dotenv load:\\n\", pip_output.stderr)\n",
    "else:\n",
    "    print(\"PIP Install successful, no errors reported.\")\n",
    "\n",
    "import os\n",
    "api_key = os.getenv('OPENAI_API_KEY')\n",
    "print(\"API Key Loaded:\", api_key is not None)\n",
    "print(\"API key starts with:\", api_key[:5])"
   ]
  },
  {
   "cell_type": "code",
   "execution_count": 3,
   "metadata": {},
   "outputs": [],
   "source": [
    "from llama_index.tools import FunctionTool\n",
    "from llama_index.llms import OpenAI\n",
    "from llama_index.agent import ReActAgent\n",
    "\n",
    "\n",
    "# define sample Tool\n",
    "def multiply(a: int, b: int) -> int:\n",
    "    \"\"\"Multiply two integers and returns the result integer\"\"\"\n",
    "    return a * b\n",
    "\n",
    "\n",
    "multiply_tool = FunctionTool.from_defaults(fn=multiply)\n",
    "\n",
    "# initialize llm\n",
    "llm = OpenAI(model=\"gpt-3.5-turbo-0613\")\n",
    "\n",
    "# initialize ReAct agent\n",
    "agent = ReActAgent.from_tools([multiply_tool], llm=llm, verbose=True)"
   ]
  },
  {
   "cell_type": "code",
   "execution_count": 5,
   "metadata": {},
   "outputs": [
    {
     "name": "stdout",
     "output_type": "stream",
     "text": [
      "\u001b[1;3;38;5;200mThought: I can use the multiply tool to calculate the product of 3 and 7.\n",
      "Action: multiply\n",
      "Action Input: {'a': 3, 'b': 7}\n",
      "\u001b[0m\u001b[1;3;34mObservation: 21\n",
      "\u001b[0m\u001b[1;3;38;5;200mThought: I have the answer to the question.\n",
      "Response: 3 multiplied by 7 is equal to 21.\n",
      "\u001b[0m"
     ]
    },
    {
     "data": {
      "text/plain": [
       "AgentChatResponse(response='3 multiplied by 7 is equal to 21.', sources=[ToolOutput(content='21', tool_name='multiply', raw_input={'args': (), 'kwargs': {'a': 3, 'b': 7}}, raw_output=21)], source_nodes=[])"
      ]
     },
     "execution_count": 5,
     "metadata": {},
     "output_type": "execute_result"
    }
   ],
   "source": [
    "# Simple chat/response\n",
    "agent.chat(\"What's 3*7?\")"
   ]
  },
  {
   "cell_type": "code",
   "execution_count": 6,
   "metadata": {},
   "outputs": [
    {
     "name": "stdout",
     "output_type": "stream",
     "text": [
      "\u001b[1;3;38;5;200mThought: I can use the multiply tool to find the product of 121 and 2.\n",
      "Action: multiply\n",
      "Action Input: {'a': 121, 'b': 2}\n",
      "\u001b[0m\u001b[1;3;34mObservation: 242\n",
      "\u001b[0m Once upon a time, there was a group of 242 mice living in a cozy little burrow. These mice were known for their intelligence and resourcefulness. They worked together as a team to gather food, build their nests, and protect each other from predators. Every day, they would venture out into the fields, searching for tasty grains and seeds to bring back to their burrow. With their combined efforts, they were able to gather enough food to sustain themselves through the harsh winter months. The mice lived harmoniously, sharing their resources and looking out for one another. They were a close-knit community, always ready to lend a helping paw to a fellow mouse in need. And so, the group of 242 mice thrived, living happily ever after in their cozy burrow."
     ]
    }
   ],
   "source": [
    "# Async chat\n",
    "\n",
    "response = agent.stream_chat(\n",
    "    \"What is 121 * 2? Once you have the answer, use that number to write a\"\n",
    "    \" story about a group of mice.\"\n",
    ")\n",
    "\n",
    "response_gen = response.response_gen\n",
    "\n",
    "for token in response_gen:\n",
    "    print(token, end=\"\")"
   ]
  },
  {
   "cell_type": "code",
   "execution_count": null,
   "metadata": {},
   "outputs": [],
   "source": []
  }
 ],
 "metadata": {
  "kernelspec": {
   "display_name": "base",
   "language": "python",
   "name": "python3"
  },
  "language_info": {
   "codemirror_mode": {
    "name": "ipython",
    "version": 3
   },
   "file_extension": ".py",
   "mimetype": "text/x-python",
   "name": "python",
   "nbconvert_exporter": "python",
   "pygments_lexer": "ipython3",
   "version": "3.9.13"
  }
 },
 "nbformat": 4,
 "nbformat_minor": 2
}
